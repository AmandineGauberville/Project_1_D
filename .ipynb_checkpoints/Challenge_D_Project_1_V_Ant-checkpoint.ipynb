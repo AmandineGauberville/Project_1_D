{
 "cells": [
  {
   "cell_type": "code",
   "execution_count": 2,
   "metadata": {},
   "outputs": [],
   "source": [
    "import random\n",
    "import string\n",
    "#creation liste des employee\n",
    "list_employee = [f'Person {i+1}' for i in range(100)]\n",
    "#fonction créant 1 ID\n",
    "def personalID():\n",
    "    return ''.join([random.choice(string.ascii_uppercase) for i in range(2)]+[random.choice(string.digits) for i in range(5)])\n",
    "#creation dictionnaire avec ID pour chaque employee\n",
    "people_ID = {list_employee[i]:personalID() for i in range(100)}\n",
    "#sorting the list by ID\n",
    "list_sorted = {k: v for k, v in sorted(people_ID.items(), key=lambda item: item[1])}"
   ]
  },
  {
   "cell_type": "code",
   "execution_count": 13,
   "metadata": {},
   "outputs": [
    {
     "name": "stdout",
     "output_type": "stream",
     "text": [
      "{'Person 12': 'ABCJAJC', 'Person 46': 'APFGCJA', 'Person 66': 'AQBDBAG', 'Person 71': 'AWIJABD', 'Person 44': 'BLJAFEF', 'Person 95': 'BNFFEGC', 'Person 80': 'CAIAHFF', 'Person 16': 'CBCBFJF', 'Person 73': 'CGHAHCE', 'Person 56': 'CKFHEDG', 'Person 3': 'CYGBIBH', 'Person 72': 'DYFHEBJ', 'Person 49': 'DZDGEBI', 'Person 94': 'ECABJEB', 'Person 79': 'EDBBJAF', 'Person 40': 'EVDBEFA', 'Person 87': 'FGAFAGJ', 'Person 42': 'FSDAIBA', 'Person 81': 'GBJHCBC', 'Person 9': 'GWICFEF', 'Person 65': 'HHDDGDA', 'Person 15': 'HJAECCG', 'Person 17': 'HJFEJHC', 'Person 45': 'HLEJIBG', 'Person 41': 'HOBJDJH', 'Person 27': 'ICDAFDA', 'Person 25': 'IJEHGDH', 'Person 4': 'IUGBAAA', 'Person 5': 'IYAGCIF', 'Person 64': 'JDFGBBE', 'Person 2': 'JFJAHBH', 'Person 90': 'JNJHCFE', 'Person 70': 'JZHIICI', 'Person 11': 'KIGGIBH', 'Person 55': 'KYDFHDD', 'Person 32': 'LBFHCAF', 'Person 99': 'LTHGJAD', 'Person 8': 'LWGJFFI', 'Person 97': 'MHGGCFI', 'Person 1': 'MIEBEHG', 'Person 23': 'MJBHFHA', 'Person 93': 'MNFIIIG', 'Person 61': 'MSGDGIB', 'Person 75': 'MWHHEDG', 'Person 62': 'MYGIGGG', 'Person 82': 'NBEDAHD', 'Person 89': 'NICBFJJ', 'Person 53': 'NUEAEHC', 'Person 28': 'NWCBGIC', 'Person 78': 'NWJFBHB', 'Person 24': 'ONIGAHD', 'Person 51': 'OTAGHBG', 'Person 68': 'OWGEJFG', 'Person 29': 'PRCHGCE', 'Person 43': 'PSAGBJC', 'Person 47': 'QLBAJFI', 'Person 77': 'QLEGHGB', 'Person 69': 'QMHABIA', 'Person 85': 'QMIFAJA', 'Person 76': 'QRFHAHC', 'Person 35': 'QTEDECC', 'Person 48': 'QTJFDJF', 'Person 19': 'RAAIJBH', 'Person 31': 'RAHEEDH', 'Person 92': 'RQBIGII', 'Person 38': 'RSJGFFG', 'Person 6': 'RTJHDEE', 'Person 83': 'RUEGCBG', 'Person 100': 'SAFFBFJ', 'Person 37': 'SHEEGEA', 'Person 21': 'SHEGBEF', 'Person 10': 'SHGIDCG', 'Person 13': 'TDGGCFD', 'Person 67': 'TJAHEIH', 'Person 86': 'TMHCIBF', 'Person 57': 'TRBHJAI', 'Person 88': 'TSCDJDA', 'Person 7': 'TWAEFDJ', 'Person 59': 'TYHHAAB', 'Person 36': 'UBAJGJJ', 'Person 18': 'UHIFCEH', 'Person 14': 'UXDABFH', 'Person 84': 'VDAJCHE', 'Person 22': 'VUJGIEC', 'Person 63': 'WKEFDDC', 'Person 34': 'WUHADEA', 'Person 33': 'XEEHFCH', 'Person 58': 'XFGEJHG', 'Person 91': 'YBBFIAG', 'Person 52': 'YCHCJGE', 'Person 60': 'YEAEJFG', 'Person 96': 'YLFJAFB', 'Person 50': 'YSHEFBI', 'Person 26': 'YUAJHEJ', 'Person 74': 'YWBFCHD', 'Person 20': 'ZFGGAAH', 'Person 54': 'ZKGAFGG', 'Person 98': 'ZLACGFA', 'Person 30': 'ZNCGHDD', 'Person 39': 'ZYJFJBB'}\n"
     ]
    }
   ],
   "source": [
    "#Extraction of all the Id sorted\n",
    "ids = [i for i in list_sorted.values()]\n",
    "#creation of correspondance number/letter\n",
    "dict_num_letters = {0:'A', 1:'B', 2:'C', 3:'D', 4:'E', 5:'F', 6:'G', 7:'H', 8:'I', 9:'J'}\n",
    "#Replace 0,1,2.... by A,B,C...\n",
    "indice_ids = 0\n",
    "for Id_person in ids:\n",
    "    for k in dict_num_letters.keys():\n",
    "        Id_person = Id_person.replace(str(k), dict_num_letters[k])\n",
    "    ids[indice_ids] = Id_person\n",
    "    indice_ids += 1\n",
    "#creation of the new list using the keys order in list_sorted and the values defined in ids\n",
    "new_list = {list(list_sorted.keys())[i]:ids[i] for i in range(100)}\n",
    "print(new_list)"
   ]
  },
  {
   "cell_type": "code",
   "execution_count": null,
   "metadata": {},
   "outputs": [],
   "source": []
  }
 ],
 "metadata": {
  "kernelspec": {
   "display_name": "Python 3",
   "language": "python",
   "name": "python3"
  },
  "language_info": {
   "codemirror_mode": {
    "name": "ipython",
    "version": 3
   },
   "file_extension": ".py",
   "mimetype": "text/x-python",
   "name": "python",
   "nbconvert_exporter": "python",
   "pygments_lexer": "ipython3",
   "version": "3.8.5"
  }
 },
 "nbformat": 4,
 "nbformat_minor": 4
}
