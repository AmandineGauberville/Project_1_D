{
 "cells": [
  {
   "cell_type": "raw",
   "metadata": {},
   "source": [
    "Challenge A: Password Validator\n",
    "Description\n",
    "Your job is to create a simple password validation function, as seen on many websites.\n",
    "\n",
    "The rules for a valid password are as follows:\n",
    "\n",
    "There needs to be at least 1 uppercase letter. There needs to be at least 1 lowercase letter. There needs to be at least 1 number. The password needs to be at least 8 characters long.\n",
    "\n",
    "You are permitted to use any methods to validate the password."
   ]
  },
  {
   "cell_type": "code",
   "execution_count": null,
   "metadata": {},
   "outputs": [],
   "source": [
    "# your code here"
   ]
  },
  {
   "cell_type": "raw",
   "metadata": {},
   "source": [
    "Challenge B: Credit Card Validator\n",
    "Description\n",
    "Your task is to write a program which reads credit card number prints the validation result ‘Valid’ or ‘Invalid’.\n",
    "\n",
    "A valid credit card has following features:\n",
    "\n",
    "It should start with 4, 5 or 6\n",
    "It should have exactly 16 digits\n",
    "It should only consist of digits (0-9)\n",
    "It may have digits in groups of 4 and separated by one hyphen \"-\"\n",
    "It should NOT use any other separator like ‘ ’,‘_’, etc.\n",
    "It should NOT have 4 or more consecutive repeated digits\n",
    "Valid Credit Card Numbers:\n",
    "\n",
    "4263525778615786\n",
    "5535535535559555\n",
    "6344-2389-7542-9163\n",
    "Invalid Credit Card Numbers:\n",
    "\n",
    "42536258796157867\n",
    "66266666626662666\n",
    "5122-2368-7954 -3214\n",
    "44244x4424442444\n",
    "0525362587961578"
   ]
  },
  {
   "cell_type": "code",
   "execution_count": null,
   "metadata": {},
   "outputs": [],
   "source": [
    "# your code here"
   ]
  },
  {
   "cell_type": "raw",
   "metadata": {},
   "source": [
    "Challenge C: Multiplication Table\n",
    "Description\n",
    "Your task, is to create a function which returns a NxN multiplication table, of size N provided as a function argument.\n",
    "\n",
    "for example, when given size is 3:\n",
    "\n",
    "1 2 3\n",
    "\n",
    "2 4 6\n",
    "\n",
    "3 6 9\n",
    "\n",
    "So for the given example, the return value should be: [[1,2,3],[2,4,6],[3,6,9]]"
   ]
  },
  {
   "cell_type": "code",
   "execution_count": null,
   "metadata": {},
   "outputs": [],
   "source": [
    "# your code here"
   ]
  },
  {
   "cell_type": "raw",
   "metadata": {},
   "source": [
    "Challenge D: ID Assignment\n",
    "Description\n",
    "a) You work in a company with 100 people - to start, please create a list of people ranging from Person 1 to Person 100. For company purposes, each of these people is identified with a Personal ID, which is a combination of 2 uppercase letters and a random number of 5 digits. For each person, generate a random ID, and store it in a dictionary alongside their name (for example ('Person 5': 'AB73648')). Then sort the dictionary according to the values of their Personal IDs.\n",
    "\n",
    "b) One month later, your company changes the ID format for every employee - from now on, every person will have an ID that consists of only letters. In order to convert them, every number in the employee ID should be replaced by the corresponding uppercase letter in the alphabeth. Please write a function that accomplishes this change and apply it to the dictionary."
   ]
  },
  {
   "cell_type": "code",
   "execution_count": 2,
   "metadata": {},
   "outputs": [],
   "source": [
    "import random\n",
    "import string\n",
    "# Creation liste des employées\n",
    "employees = [f'Person {i+1}' for i in range(100)] \n",
    "\n",
    "#Fonction pour créer des IDs\n",
    "def ids():\n",
    "    return ''.join([random.choice(string.ascii_uppercase) for i in range(2)] + [random.choice(string.digits) for i in range(5)])\n",
    "\n",
    "#Dictionnaire des personnes et des IDs\n",
    "employees_Id = {employees[i]:ids() for i in range(100)}\n",
    "\n",
    "#Classement par Ids\n",
    "employees_Id_sorted = {k: v for k, v in sorted(employees_Id.items(), key=lambda item: item[1])}"
   ]
  },
  {
   "cell_type": "code",
   "execution_count": 3,
   "metadata": {},
   "outputs": [],
   "source": [
    "corresp = {0:'A',1:'B',2:'C',3:'D', 4:'E',5:'F',6:'G', 7:'H',8:'I',9: 'J'}    #corresp[5]"
   ]
  },
  {
   "cell_type": "code",
   "execution_count": 4,
   "metadata": {},
   "outputs": [
    {
     "name": "stdout",
     "output_type": "stream",
     "text": [
      "{'Person 1': 'AZFFIGG', 'Person 2': 'GUFEJHH', 'Person 3': 'DMAAJJC', 'Person 4': 'VPJIDAF', 'Person 5': 'CREJCJH', 'Person 6': 'YZIDAFH', 'Person 7': 'FCBFDDH', 'Person 8': 'LBAHHFA', 'Person 9': 'JKEFCJC', 'Person 10': 'RLGDGBB', 'Person 11': 'JUCDIDC', 'Person 12': 'CFICEGH', 'Person 13': 'YWJCCIC', 'Person 14': 'QTHCDGJ', 'Person 15': 'NXAEGEH', 'Person 16': 'UFHFEIH', 'Person 17': 'JAAJICI', 'Person 18': 'ENGIEJH', 'Person 19': 'RPCGJBG', 'Person 20': 'CSBJEDE', 'Person 21': 'YMJHAAF', 'Person 22': 'HPIJCHC', 'Person 23': 'VBDHEBD', 'Person 24': 'LUADFCB', 'Person 25': 'RYBIEAG', 'Person 26': 'HECHHED', 'Person 27': 'XMBEGGJ', 'Person 28': 'OXABGIA', 'Person 29': 'VTECGDF', 'Person 30': 'VICJIEA', 'Person 31': 'OMAIFDJ', 'Person 32': 'NPDIGHI', 'Person 33': 'KIAEBCF', 'Person 34': 'FAGFABB', 'Person 35': 'VUGAJBI', 'Person 36': 'KZDBGDE', 'Person 37': 'IAAHFAG', 'Person 38': 'KMDIAGG', 'Person 39': 'LDJDJDE', 'Person 40': 'EPFHJFG', 'Person 41': 'HLAGJCJ', 'Person 42': 'MXFECDJ', 'Person 43': 'VSCGDJA', 'Person 44': 'TTIFHJC', 'Person 45': 'VNHEJHC', 'Person 46': 'WNHEDIF', 'Person 47': 'SUCHAII', 'Person 48': 'AIIIGBB', 'Person 49': 'AIAAGDA', 'Person 50': 'QJIECHI', 'Person 51': 'NMGCFGF', 'Person 52': 'MGIBAHJ', 'Person 53': 'EHHICHH', 'Person 54': 'YACAHHE', 'Person 55': 'ZTEHIDF', 'Person 56': 'ZUEBABH', 'Person 57': 'JBFIFDJ', 'Person 58': 'JYGICJD', 'Person 59': 'HJIJFCH', 'Person 60': 'YLDBAAG', 'Person 61': 'FCGGFEI', 'Person 62': 'HSAAFAB', 'Person 63': 'DJDAGFB', 'Person 64': 'EBIDAJI', 'Person 65': 'LRDGCBF', 'Person 66': 'VTCGFIE', 'Person 67': 'NUBBCBD', 'Person 68': 'DBFDCBE', 'Person 69': 'KGHJBFI', 'Person 70': 'UGEJHCI', 'Person 71': 'NIFICDI', 'Person 72': 'LWBCDDF', 'Person 73': 'OLGIDIF', 'Person 74': 'ARAHHAG', 'Person 75': 'IGJEJDG', 'Person 76': 'HVFDDEH', 'Person 77': 'AVBGEII', 'Person 78': 'RKAIAIC', 'Person 79': 'JBFAFJH', 'Person 80': 'PEJHHIH', 'Person 81': 'GDCAAGE', 'Person 82': 'FEIDEDA', 'Person 83': 'NDFIIJC', 'Person 84': 'KHBIHBE', 'Person 85': 'SAJEEDJ', 'Person 86': 'MYFJBJD', 'Person 87': 'UUEHEAE', 'Person 88': 'UWDCJHJ', 'Person 89': 'VBHIGHH', 'Person 90': 'PWFJEAA', 'Person 91': 'TBCCDEI', 'Person 92': 'THHDDJF', 'Person 93': 'ZSFBEDC', 'Person 94': 'PFABEGC', 'Person 95': 'WVJHCJA', 'Person 96': 'JQCHBFE', 'Person 97': 'ICDFHBH', 'Person 98': 'CZABIJI', 'Person 99': 'YQGBHAB', 'Person 100': 'APEHDHF'}\n"
     ]
    }
   ],
   "source": [
    "new_employees_Id = {}\n",
    "for name,ids in employees_Id.items():\n",
    "    new_id = []\n",
    "    for i in list(ids):\n",
    "        if i.isnumeric():  \n",
    "            i = corresp[int(i)]\n",
    "        new_id.append(i)\n",
    "    new_employees_Id[name] = \"\".join(new_id)\n",
    "print(new_employees_Id)"
   ]
  },
  {
   "cell_type": "code",
   "execution_count": 5,
   "metadata": {},
   "outputs": [
    {
     "name": "stdout",
     "output_type": "stream",
     "text": [
      "{'Person 1': 'AZFFIGG', 'Person 2': 'GUFEJHH', 'Person 3': 'DMAAJJC', 'Person 4': 'VPJIDAF', 'Person 5': 'CREJCJH', 'Person 6': 'YZIDAFH', 'Person 7': 'FCBFDDH', 'Person 8': 'LBAHHFA', 'Person 9': 'JKEFCJC', 'Person 10': 'RLGDGBB', 'Person 11': 'JUCDIDC', 'Person 12': 'CFICEGH', 'Person 13': 'YWJCCIC', 'Person 14': 'QTHCDGJ', 'Person 15': 'NXAEGEH', 'Person 16': 'UFHFEIH', 'Person 17': 'JAAJICI', 'Person 18': 'ENGIEJH', 'Person 19': 'RPCGJBG', 'Person 20': 'CSBJEDE', 'Person 21': 'YMJHAAF', 'Person 22': 'HPIJCHC', 'Person 23': 'VBDHEBD', 'Person 24': 'LUADFCB', 'Person 25': 'RYBIEAG', 'Person 26': 'HECHHED', 'Person 27': 'XMBEGGJ', 'Person 28': 'OXABGIA', 'Person 29': 'VTECGDF', 'Person 30': 'VICJIEA', 'Person 31': 'OMAIFDJ', 'Person 32': 'NPDIGHI', 'Person 33': 'KIAEBCF', 'Person 34': 'FAGFABB', 'Person 35': 'VUGAJBI', 'Person 36': 'KZDBGDE', 'Person 37': 'IAAHFAG', 'Person 38': 'KMDIAGG', 'Person 39': 'LDJDJDE', 'Person 40': 'EPFHJFG', 'Person 41': 'HLAGJCJ', 'Person 42': 'MXFECDJ', 'Person 43': 'VSCGDJA', 'Person 44': 'TTIFHJC', 'Person 45': 'VNHEJHC', 'Person 46': 'WNHEDIF', 'Person 47': 'SUCHAII', 'Person 48': 'AIIIGBB', 'Person 49': 'AIAAGDA', 'Person 50': 'QJIECHI', 'Person 51': 'NMGCFGF', 'Person 52': 'MGIBAHJ', 'Person 53': 'EHHICHH', 'Person 54': 'YACAHHE', 'Person 55': 'ZTEHIDF', 'Person 56': 'ZUEBABH', 'Person 57': 'JBFIFDJ', 'Person 58': 'JYGICJD', 'Person 59': 'HJIJFCH', 'Person 60': 'YLDBAAG', 'Person 61': 'FCGGFEI', 'Person 62': 'HSAAFAB', 'Person 63': 'DJDAGFB', 'Person 64': 'EBIDAJI', 'Person 65': 'LRDGCBF', 'Person 66': 'VTCGFIE', 'Person 67': 'NUBBCBD', 'Person 68': 'DBFDCBE', 'Person 69': 'KGHJBFI', 'Person 70': 'UGEJHCI', 'Person 71': 'NIFICDI', 'Person 72': 'LWBCDDF', 'Person 73': 'OLGIDIF', 'Person 74': 'ARAHHAG', 'Person 75': 'IGJEJDG', 'Person 76': 'HVFDDEH', 'Person 77': 'AVBGEII', 'Person 78': 'RKAIAIC', 'Person 79': 'JBFAFJH', 'Person 80': 'PEJHHIH', 'Person 81': 'GDCAAGE', 'Person 82': 'FEIDEDA', 'Person 83': 'NDFIIJC', 'Person 84': 'KHBIHBE', 'Person 85': 'SAJEEDJ', 'Person 86': 'MYFJBJD', 'Person 87': 'UUEHEAE', 'Person 88': 'UWDCJHJ', 'Person 89': 'VBHIGHH', 'Person 90': 'PWFJEAA', 'Person 91': 'TBCCDEI', 'Person 92': 'THHDDJF', 'Person 93': 'ZSFBEDC', 'Person 94': 'PFABEGC', 'Person 95': 'WVJHCJA', 'Person 96': 'JQCHBFE', 'Person 97': 'ICDFHBH', 'Person 98': 'CZABIJI', 'Person 99': 'YQGBHAB', 'Person 100': 'APEHDHF'}\n"
     ]
    }
   ],
   "source": [
    "new_employees_Id = {}\n",
    "for name,ids in employees_Id.items():\n",
    "    new_id = []\n",
    "    for i in list(ids):\n",
    "        if i.isnumeric():  \n",
    "            i = corresp[int(i)]\n",
    "        new_id.append(i)\n",
    "    new_employees_Id[name] = \"\".join(new_id)\n",
    "print(new_employees_Id)"
   ]
  },
  {
   "cell_type": "code",
   "execution_count": null,
   "metadata": {},
   "outputs": [],
   "source": []
  }
 ],
 "metadata": {
  "kernelspec": {
   "display_name": "Python 3",
   "language": "python",
   "name": "python3"
  },
  "language_info": {
   "codemirror_mode": {
    "name": "ipython",
    "version": 3
   },
   "file_extension": ".py",
   "mimetype": "text/x-python",
   "name": "python",
   "nbconvert_exporter": "python",
   "pygments_lexer": "ipython3",
   "version": "3.9.1"
  }
 },
 "nbformat": 4,
 "nbformat_minor": 4
}
