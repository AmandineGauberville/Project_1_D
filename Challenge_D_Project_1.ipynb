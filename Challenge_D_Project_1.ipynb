    "Challenge D: ID Assignment\n",
    "Description\n",
    "a) You work in a company with 100 people - to start, please create a list of people ranging from Person 1 to Person 100. For company purposes, each of these people is identified with a Personal ID, which is a combination of 2 uppercase letters and a random number of 5 digits. For each person, generate a random ID, and store it in a dictionary alongside their name (for example ('Person 5': 'AB73648')). Then sort the dictionary according to the values of their Personal IDs.\n",
    "\n",
    "b) One month later, your company changes the ID format for every employee - from now on, every person will have an ID that consists of only letters. In order to convert them, every number in the employee ID should be replaced by the corresponding uppercase letter in the alphabeth. Please write a function that accomplishes this change and apply it to the dictionary."
   ]
  },
  {
   "cell_type": "code",
   "execution_count": 1,
   "metadata": {},
   "outputs": [],
   "source": [
    "import random\n",
    "import string\n",
    "# Creation liste des employées\n",
    "employees = [f'Person {i+1}' for i in range(100)] \n",
    "\n",
    "#Fonction pour créer des IDs\n",
    "def ids():\n",
    "    return ''.join([random.choice(string.ascii_uppercase) for i in range(2)] + [random.choice(string.digits) for i in range(5)])\n",
    "\n",
    "#Dictionnaire des personnes et des IDs\n",
    "employees_Id = {employees[i]:ids() for i in range(100)}\n",
    "\n",
    "#Classement par Ids\n",
    "employees_Id_sorted = {k: v for k, v in sorted(employees_Id.items(), key=lambda item: item[1])}"
   ]
  },
  {
   "cell_type": "code",
   "execution_count": 2,
   "metadata": {},
   "outputs": [],
   "source": [
    "corresp = {0:'A',1:'B',2:'C',3:'D', 4:'E',5:'F',6:'G', 7:'H',8:'I',9: 'J'}    #corresp[5]"
   ]
  },
  {
   "cell_type": "code",
   "execution_count": 3,
   "metadata": {},
   "outputs": [
    {
     "name": "stdout",
     "output_type": "stream",
     "text": [
      "{'Person 1': 'APJHFEJ', 'Person 2': 'BGDIGBB', 'Person 3': 'LRDEHHH', 'Person 4': 'GFAGJCB', 'Person 5': 'AECHAHC', 'Person 6': 'ITFIHHC', 'Person 7': 'JKCBIJA', 'Person 8': 'PSEIEJF', 'Person 9': 'EIFCJEJ', 'Person 10': 'ZLEFIED', 'Person 11': 'UGBEHGE', 'Person 12': 'LXCIDEF', 'Person 13': 'SNGIAHF', 'Person 14': 'GMADGGI', 'Person 15': 'LIIBAIF', 'Person 16': 'AHJJFIG', 'Person 17': 'SEDDCDD', 'Person 18': 'JHIEDBE', 'Person 19': 'QHCEBEE', 'Person 20': 'PNADDEE', 'Person 21': 'BSGBEBB', 'Person 22': 'ASEGBDE', 'Person 23': 'UTCFBAH', 'Person 24': 'JWHDHGJ', 'Person 25': 'PFEADHD', 'Person 26': 'MYFFCEJ', 'Person 27': 'GHBBAAB', 'Person 28': 'HUCIBJB', 'Person 29': 'ZPIBICB', 'Person 30': 'NUIDFAC', 'Person 31': 'UAACGAF', 'Person 32': 'YHDJGGG', 'Person 33': 'IPBJBJA', 'Person 34': 'DWIHEAI', 'Person 35': 'OKEFEBB', 'Person 36': 'DXCGEAJ', 'Person 37': 'CRFADGF', 'Person 38': 'HGJJIHD', 'Person 39': 'SKEJJGG', 'Person 40': 'TUHEECB', 'Person 41': 'BYBFGHI', 'Person 42': 'JWHAJBJ', 'Person 43': 'XJFEFAD', 'Person 44': 'SJBDCGA', 'Person 45': 'JBBDCJH', 'Person 46': 'NGDHHGB', 'Person 47': 'QNAJGBE', 'Person 48': 'XZCHEJD', 'Person 49': 'ZAJEJJC', 'Person 50': 'QHBBFBG', 'Person 51': 'QAGEDGG', 'Person 52': 'KWCFJAA', 'Person 53': 'ECDGHDB', 'Person 54': 'QUBFBEC', 'Person 55': 'ZPECBGA', 'Person 56': 'WEGFDGB', 'Person 57': 'XHFCGII', 'Person 58': 'WFBIHBB', 'Person 59': 'EKAEBDJ', 'Person 60': 'GKGIJGE', 'Person 61': 'BUAGFFD', 'Person 62': 'OOFBIAA', 'Person 63': 'OLEFIIG', 'Person 64': 'BVIJEJG', 'Person 65': 'OXBICDI', 'Person 66': 'DICADGA', 'Person 67': 'VVFGGEF', 'Person 68': 'EHHHCCG', 'Person 69': 'QSAAFCE', 'Person 70': 'XSIAIDH', 'Person 71': 'UOHJHGE', 'Person 72': 'WFHBCDA', 'Person 73': 'MQGIEGA', 'Person 74': 'FMBCHAC', 'Person 75': 'TDGJFEH', 'Person 76': 'RSJJHIF', 'Person 77': 'IGFDGAD', 'Person 78': 'DMCFHGG', 'Person 79': 'QAEJHDD', 'Person 80': 'RVCEJHI', 'Person 81': 'CCCEEFH', 'Person 82': 'UYEJJJE', 'Person 83': 'JYIFGHH', 'Person 84': 'RNJCIAC', 'Person 85': 'GGCFDEF', 'Person 86': 'YJEHAGJ', 'Person 87': 'KCCJICH', 'Person 88': 'IKEFHCB', 'Person 89': 'FFGHJHE', 'Person 90': 'GNHCIDE', 'Person 91': 'FSAIGIJ', 'Person 92': 'JXAEHCJ', 'Person 93': 'UTCJCCB', 'Person 94': 'JJHIGHG', 'Person 95': 'HAECDAJ', 'Person 96': 'AQDIAEB', 'Person 97': 'NYEJIBH', 'Person 98': 'PNGEECH', 'Person 99': 'YXABGAJ', 'Person 100': 'GGHBAIF'}\n"
     ]
    }
   ],
   "source": [
    "new_employees_Id = {}\n",
    "for name,ids in employees_Id.items():\n",
    "    new_id = []\n",
    "    for i in list(ids):\n",
    "        if i.isnumeric():  \n",
    "            i = corresp[int(i)]\n",
    "        new_id.append(i)\n",
    "    new_employees_Id[name] = \"\".join(new_id)\n",
    "print(new_employees_Id)"
   ]
  }
 ],
 "metadata": {
  "kernelspec": {
   "display_name": "Python 3",
   "language": "python",
   "name": "python3"
  },
  "language_info": {
   "codemirror_mode": {
    "name": "ipython",
    "version": 3
   },
   "file_extension": ".py",
   "mimetype": "text/x-python",
   "name": "python",
   "nbconvert_exporter": "python",
   "pygments_lexer": "ipython3",
   "version": "3.8.5"
  }
 },
 "nbformat": 4,
 "nbformat_minor": 4
}
