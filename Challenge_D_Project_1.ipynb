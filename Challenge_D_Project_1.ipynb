{
 "cells": [
  {
   "cell_type": "raw",
   "metadata": {},
   "source": [
    "Challenge A: Password Validator\n",
    "Description\n",
    "Your job is to create a simple password validation function, as seen on many websites.\n",
    "\n",
    "The rules for a valid password are as follows:\n",
    "\n",
    "There needs to be at least 1 uppercase letter. There needs to be at least 1 lowercase letter. There needs to be at least 1 number. The password needs to be at least 8 characters long.\n",
    "\n",
    "You are permitted to use any methods to validate the password."
   ]
  },
  {
   "cell_type": "code",
   "execution_count": null,
   "metadata": {},
   "outputs": [],
   "source": [
    "# your code here"
   ]
  },
  {
   "cell_type": "raw",
   "metadata": {},
   "source": [
    "Challenge B: Credit Card Validator\n",
    "Description\n",
    "Your task is to write a program which reads credit card number prints the validation result ‘Valid’ or ‘Invalid’.\n",
    "\n",
    "A valid credit card has following features:\n",
    "\n",
    "It should start with 4, 5 or 6\n",
    "It should have exactly 16 digits\n",
    "It should only consist of digits (0-9)\n",
    "It may have digits in groups of 4 and separated by one hyphen \"-\"\n",
    "It should NOT use any other separator like ‘ ’,‘_’, etc.\n",
    "It should NOT have 4 or more consecutive repeated digits\n",
    "Valid Credit Card Numbers:\n",
    "\n",
    "4263525778615786\n",
    "5535535535559555\n",
    "6344-2389-7542-9163\n",
    "Invalid Credit Card Numbers:\n",
    "\n",
    "42536258796157867\n",
    "66266666626662666\n",
    "5122-2368-7954 -3214\n",
    "44244x4424442444\n",
    "0525362587961578"
   ]
  },
  {
   "cell_type": "code",
   "execution_count": null,
   "metadata": {},
   "outputs": [],
   "source": [
    "# your code here"
   ]
  },
  {
   "cell_type": "raw",
   "metadata": {},
   "source": [
    "Challenge C: Multiplication Table\n",
    "Description\n",
    "Your task, is to create a function which returns a NxN multiplication table, of size N provided as a function argument.\n",
    "\n",
    "for example, when given size is 3:\n",
    "\n",
    "1 2 3\n",
    "\n",
    "2 4 6\n",
    "\n",
    "3 6 9\n",
    "\n",
    "So for the given example, the return value should be: [[1,2,3],[2,4,6],[3,6,9]]"
   ]
  },
  {
   "cell_type": "code",
   "execution_count": null,
   "metadata": {},
   "outputs": [],
   "source": [
    "# your code here"
   ]
  },
  {
   "cell_type": "raw",
   "metadata": {},
   "source": [
    "Challenge D: ID Assignment\n",
    "Description\n",
    "a) You work in a company with 100 people - to start, please create a list of people ranging from Person 1 to Person 100. For company purposes, each of these people is identified with a Personal ID, which is a combination of 2 uppercase letters and a random number of 5 digits. For each person, generate a random ID, and store it in a dictionary alongside their name (for example ('Person 5': 'AB73648')). Then sort the dictionary according to the values of their Personal IDs.\n",
    "\n",
    "b) One month later, your company changes the ID format for every employee - from now on, every person will have an ID that consists of only letters. In order to convert them, every number in the employee ID should be replaced by the corresponding uppercase letter in the alphabeth. Please write a function that accomplishes this change and apply it to the dictionary."
   ]
  },
  {
   "cell_type": "code",
   "execution_count": 18,
   "metadata": {},
   "outputs": [],
   "source": [
    "import random\n",
    "import string\n",
    "# Creation liste des employées\n",
    "employees = [f'Person {i+1}' for i in range(100)] \n",
    "\n",
    "#Fonction pour créer des IDs\n",
    "def ids():\n",
    "    return ''.join([random.choice(string.ascii_uppercase) for i in range(2)] + [random.choice(string.digits) for i in range(5)])\n",
    "\n",
    "#Dictionnaire des personnes et des IDs\n",
    "employees_Id = {employees[i]:ids() for i in range(100)}\n",
    "\n",
    "#Classement par Ids\n",
    "employees_Id_sorted = {k: v for k, v in sorted(employees_Id.items(), key=lambda item: item[1])}"
   ]
  },
  {
   "cell_type": "code",
   "execution_count": 14,
   "metadata": {},
   "outputs": [],
   "source": [
    "corresp = {0:'A',1:'B',2:'C',3:'D', 4:'E',5:'F',6:'G', 7:'H',8:'I',9: 'J'}    #corresp[5]"
   ]
  },
  {
   "cell_type": "code",
   "execution_count": 15,
   "metadata": {},
   "outputs": [
    {
     "name": "stdout",
     "output_type": "stream",
     "text": [
      "{'Person 1': 'DFIHFFG', 'Person 2': 'NMBAHAB', 'Person 3': 'SOBGCHG', 'Person 4': 'AFGIHJE', 'Person 5': 'KGBBEII', 'Person 6': 'IKHJGGC', 'Person 7': 'DFICFAH', 'Person 8': 'LYGBDIE', 'Person 9': 'FLIJGGD', 'Person 10': 'ZAAGIDB', 'Person 11': 'PCFCGEA', 'Person 12': 'FVJABAH', 'Person 13': 'BTEEFCJ', 'Person 14': 'DXCAJHC', 'Person 15': 'NKDBACA', 'Person 16': 'OZBBAGG', 'Person 17': 'KBEBFJH', 'Person 18': 'LCEBEFB', 'Person 19': 'MUJEBAC', 'Person 20': 'TVIEFCH', 'Person 21': 'IKBCHFB', 'Person 22': 'ZWIJCFB', 'Person 23': 'VZDJAFG', 'Person 24': 'DABEAFJ', 'Person 25': 'CMAAAFC', 'Person 26': 'BJBGBAB', 'Person 27': 'GLCJEJB', 'Person 28': 'ZZFFEDB', 'Person 29': 'KPBJCIG', 'Person 30': 'PQIGEJC', 'Person 31': 'FCEJGDD', 'Person 32': 'TJFGAAA', 'Person 33': 'HWFAIGC', 'Person 34': 'FKCEIFG', 'Person 35': 'LBCEHJF', 'Person 36': 'VPDAJDB', 'Person 37': 'NPJEJAD', 'Person 38': 'HWJDAFB', 'Person 39': 'TABCAHE', 'Person 40': 'FHHCAHH', 'Person 41': 'WSAAGAB', 'Person 42': 'GBGHHJE', 'Person 43': 'QSCHDGI', 'Person 44': 'VSJCJIF', 'Person 45': 'TCIFHCB', 'Person 46': 'SHBFJCJ', 'Person 47': 'MMCCBBG', 'Person 48': 'WVJIDAG', 'Person 49': 'KMHIDBF', 'Person 50': 'UKBDHCE', 'Person 51': 'BPAAHFI', 'Person 52': 'XFIAFBI', 'Person 53': 'MMACICH', 'Person 54': 'EWDDIBJ', 'Person 55': 'DTEIFIF', 'Person 56': 'IIBGHEB', 'Person 57': 'JPBHDGC', 'Person 58': 'XLCHCIF', 'Person 59': 'GVAHGAG', 'Person 60': 'PVGHIFB', 'Person 61': 'EVCBCBE', 'Person 62': 'HGBHCCB', 'Person 63': 'ASABCDI', 'Person 64': 'SXIDIDF', 'Person 65': 'PLEEBFJ', 'Person 66': 'RSBGDAB', 'Person 67': 'CNJADGE', 'Person 68': 'QFBBDIA', 'Person 69': 'VYBGJGD', 'Person 70': 'NOFGDIF', 'Person 71': 'MIBGDGD', 'Person 72': 'EDIHDCA', 'Person 73': 'JLEGCCB', 'Person 74': 'XVFGHDF', 'Person 75': 'CNDJHCF', 'Person 76': 'FKJEHFG', 'Person 77': 'GUHADGJ', 'Person 78': 'EGEDBEA', 'Person 79': 'CHEICFA', 'Person 80': 'JYHCGCJ', 'Person 81': 'BOFJDII', 'Person 82': 'JVAHHDH', 'Person 83': 'ENDIJGF', 'Person 84': 'UGJGCDD', 'Person 85': 'DQHDIBH', 'Person 86': 'WFBBDFH', 'Person 87': 'JOEBBGF', 'Person 88': 'MMJHCIC', 'Person 89': 'WSBIEFF', 'Person 90': 'WRJEAJE', 'Person 91': 'BJFCDDF', 'Person 92': 'CRHEGJI', 'Person 93': 'GCEDEHE', 'Person 94': 'TAAAJGF', 'Person 95': 'WEJDCGJ', 'Person 96': 'AFDDGBA', 'Person 97': 'HUAHAJH', 'Person 98': 'MNEEEJG', 'Person 99': 'PWCFFGB', 'Person 100': 'EPCBEIE'}\n"
     ]
    }
   ],
   "source": [
    "new_employees_Id = {}\n",
    "for name,ids in employees_Id.items():\n",
    "    new_id = []\n",
    "    for i in list(ids):\n",
    "        if i.isnumeric():  \n",
    "            i = corresp[int(i)]\n",
    "        new_id.append(i)\n",
    "    new_employees_Id[name] = \"\".join(new_id)\n",
    "print(new_employees_Id)"
   ]
  },
  {
   "cell_type": "code",
   "execution_count": null,
   "metadata": {},
   "outputs": [],
   "source": [
    "new_employees_Id = {}\n",
    "for name,ids in employees_Id.items():\n",
    "    new_id = []\n",
    "    for i in list(ids):\n",
    "        if i.isnumeric():  \n",
    "            i = corresp[int(i)]\n",
    "        new_id.append(i)\n",
    "    new_employees_Id[name] = \"\".join(new_id)\n",
    "new_employees_Id = "
   ]
  },
  {
   "cell_type": "code",
   "execution_count": null,
   "metadata": {},
   "outputs": [],
   "source": []
  }
 ],
 "metadata": {
  "kernelspec": {
   "display_name": "Python 3",
   "language": "python",
   "name": "python3"
  },
  "language_info": {
   "codemirror_mode": {
    "name": "ipython",
    "version": 3
   },
   "file_extension": ".py",
   "mimetype": "text/x-python",
   "name": "python",
   "nbconvert_exporter": "python",
   "pygments_lexer": "ipython3",
   "version": "3.9.1"
  }
 },
 "nbformat": 4,
 "nbformat_minor": 4
}
