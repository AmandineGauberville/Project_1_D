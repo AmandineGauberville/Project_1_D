{
 "cells": [
  {
   "cell_type": "raw",
   "metadata": {},
   "source": [
    "Challenge A: Password Validator\n",
    "Description\n",
    "Your job is to create a simple password validation function, as seen on many websites.\n",
    "\n",
    "The rules for a valid password are as follows:\n",
    "\n",
    "There needs to be at least 1 uppercase letter. There needs to be at least 1 lowercase letter. There needs to be at least 1 number. The password needs to be at least 8 characters long.\n",
    "\n",
    "You are permitted to use any methods to validate the password."
   ]
  },
  {
   "cell_type": "code",
   "execution_count": null,
   "metadata": {},
   "outputs": [],
   "source": [
    "# your code here"
   ]
  },
  {
   "cell_type": "raw",
   "metadata": {},
   "source": [
    "Challenge B: Credit Card Validator\n",
    "Description\n",
    "Your task is to write a program which reads credit card number prints the validation result ‘Valid’ or ‘Invalid’.\n",
    "\n",
    "A valid credit card has following features:\n",
    "\n",
    "It should start with 4, 5 or 6\n",
    "It should have exactly 16 digits\n",
    "It should only consist of digits (0-9)\n",
    "It may have digits in groups of 4 and separated by one hyphen \"-\"\n",
    "It should NOT use any other separator like ‘ ’,‘_’, etc.\n",
    "It should NOT have 4 or more consecutive repeated digits\n",
    "Valid Credit Card Numbers:\n",
    "\n",
    "4263525778615786\n",
    "5535535535559555\n",
    "6344-2389-7542-9163\n",
    "Invalid Credit Card Numbers:\n",
    "\n",
    "42536258796157867\n",
    "66266666626662666\n",
    "5122-2368-7954 -3214\n",
    "44244x4424442444\n",
    "0525362587961578"
   ]
  },
  {
   "cell_type": "code",
   "execution_count": null,
   "metadata": {},
   "outputs": [],
   "source": [
    "# your code here"
   ]
  },
  {
   "cell_type": "raw",
   "metadata": {},
   "source": [
    "Challenge C: Multiplication Table\n",
    "Description\n",
    "Your task, is to create a function which returns a NxN multiplication table, of size N provided as a function argument.\n",
    "\n",
    "for example, when given size is 3:\n",
    "\n",
    "1 2 3\n",
    "\n",
    "2 4 6\n",
    "\n",
    "3 6 9\n",
    "\n",
    "So for the given example, the return value should be: [[1,2,3],[2,4,6],[3,6,9]]"
   ]
  },
  {
   "cell_type": "code",
   "execution_count": null,
   "metadata": {},
   "outputs": [],
   "source": [
    "# your code here"
   ]
  },
  {
   "cell_type": "raw",
   "metadata": {},
   "source": [
    "Challenge D: ID Assignment\n",
    "Description\n",
    "a) You work in a company with 100 people - to start, please create a list of people ranging from Person 1 to Person 100. For company purposes, each of these people is identified with a Personal ID, which is a combination of 2 uppercase letters and a random number of 5 digits. For each person, generate a random ID, and store it in a dictionary alongside their name (for example ('Person 5': 'AB73648')). Then sort the dictionary according to the values of their Personal IDs.\n",
    "\n",
    "b) One month later, your company changes the ID format for every employee - from now on, every person will have an ID that consists of only letters. In order to convert them, every number in the employee ID should be replaced by the corresponding uppercase letter in the alphabeth. Please write a function that accomplishes this change and apply it to the dictionary."
   ]
  },
  {
   "cell_type": "code",
   "execution_count": 148,
   "metadata": {},
   "outputs": [],
   "source": [
    "# Creation liste des employées\n",
    "employees = [f'Person {i+1}' for i in range(100)] \n",
    "\n",
    "#Fonction pour créer des IDs\n",
    "def ids():\n",
    "    return ''.join([random.choice(string.ascii_uppercase) for i in range(2)] + [random.choice(string.digits) for i in range(5)])\n",
    "\n",
    "#Dictionnaire des personnes et des IDs\n",
    "employees_Id = {persons[i]:ids() for i in range(100)}\n",
    "\n",
    "#Classement par Ids\n",
    "employees_Id_sorted = {k: v for k, v in sorted(people_Id.items(), key=lambda item: item[1])}"
   ]
  },
  {
   "cell_type": "code",
   "execution_count": 151,
   "metadata": {},
   "outputs": [],
   "source": [
    "corresp = {0:'A',1:'B',2:'C',3:'D', 4:'E',5:'F',6:'G', 7:'H',8:'I',9: 'J'}    #corresp[5]"
   ]
  },
  {
   "cell_type": "code",
   "execution_count": 156,
   "metadata": {},
   "outputs": [
    {
     "name": "stdout",
     "output_type": "stream",
     "text": [
      "{'Person 1': 'GNEEGJG', 'Person 2': 'SUDIIBC', 'Person 3': 'VPFCCHI', 'Person 4': 'UYGDHDH', 'Person 5': 'MRCCACH', 'Person 6': 'ZRAJGHJ', 'Person 7': 'QNACIIA', 'Person 8': 'FTEBEGJ', 'Person 9': 'NEBGIHJ', 'Person 10': 'VEBIBBA', 'Person 11': 'QWJEIAB', 'Person 12': 'MIADBCI', 'Person 13': 'PGDDDCF', 'Person 14': 'SQEIIAG', 'Person 15': 'ZEDGHJA', 'Person 16': 'LWBGAED', 'Person 17': 'RNCBDAG', 'Person 18': 'ZQIEDHA', 'Person 19': 'BYHDHDI', 'Person 20': 'RYGBJCA', 'Person 21': 'OHEEDFD', 'Person 22': 'JCFBFFH', 'Person 23': 'QVGEHHG', 'Person 24': 'DVDDEAF', 'Person 25': 'QSAEHJG', 'Person 26': 'MZFDHIC', 'Person 27': 'TXIEEAF', 'Person 28': 'HAHCEIB', 'Person 29': 'ANHCDHJ', 'Person 30': 'UKEHEJE', 'Person 31': 'IVIAHGI', 'Person 32': 'THGGCAI', 'Person 33': 'LNDGBJI', 'Person 34': 'WADBGCC', 'Person 35': 'RVFHAGJ', 'Person 36': 'BDJCDFB', 'Person 37': 'QRAEIGE', 'Person 38': 'NFIGJDA', 'Person 39': 'LZHIDFJ', 'Person 40': 'CMDDJHE', 'Person 41': 'YVCBBBE', 'Person 42': 'XQEGAID', 'Person 43': 'SUJFJGF', 'Person 44': 'VQECJIG', 'Person 45': 'SNHJFDD', 'Person 46': 'PNFGABB', 'Person 47': 'IBEDCBF', 'Person 48': 'XLHIBBC', 'Person 49': 'EAHCJJH', 'Person 50': 'XHCBHDJ', 'Person 51': 'FWEIAIF', 'Person 52': 'GFJIICH', 'Person 53': 'ZKIDEFE', 'Person 54': 'FQHIFHA', 'Person 55': 'KEAHHEB', 'Person 56': 'NUGAAFH', 'Person 57': 'BDJCBIE', 'Person 58': 'QUEGJCH', 'Person 59': 'UDEAHHF', 'Person 60': 'SUDJIJE', 'Person 61': 'ZTADJGA', 'Person 62': 'XEBFDDF', 'Person 63': 'LYDBFID', 'Person 64': 'XBJJDFH', 'Person 65': 'XVBCICG', 'Person 66': 'MGJBFDC', 'Person 67': 'HQJEHAJ', 'Person 68': 'VOGDDHI', 'Person 69': 'GSIJBDC', 'Person 70': 'BCGADEA', 'Person 71': 'EBJGGCE', 'Person 72': 'ZNCGIEG', 'Person 73': 'ZZBHABD', 'Person 74': 'ZKIBBHC', 'Person 75': 'DOCAEEC', 'Person 76': 'FMHBDAI', 'Person 77': 'DKJECHI', 'Person 78': 'ZDGCCIE', 'Person 79': 'FJHDHDB', 'Person 80': 'SDDFBFF', 'Person 81': 'QXCHBJH', 'Person 82': 'FSAJHJF', 'Person 83': 'PBBIHAG', 'Person 84': 'RYJIIDH', 'Person 85': 'GEFICDD', 'Person 86': 'FNDICCI', 'Person 87': 'RQGABDA', 'Person 88': 'GMAFAEH', 'Person 89': 'KYDEDCH', 'Person 90': 'KPDDIBJ', 'Person 91': 'FBBDCBJ', 'Person 92': 'RTEDECJ', 'Person 93': 'CJAHHJG', 'Person 94': 'HVAGIHB', 'Person 95': 'XWGIJID', 'Person 96': 'KFHCHAE', 'Person 97': 'REDJGAC', 'Person 98': 'XXABCEA', 'Person 99': 'VUJABCC', 'Person 100': 'YCGDCEH'}\n"
     ]
    }
   ],
   "source": [
    "new_employees_Id = {}\n",
    "for name,ids in employees_Id.items():\n",
    "    new_id = []\n",
    "    for i in list(ids):\n",
    "        if i.isnumeric():  \n",
    "            i = corresp[int(i)]\n",
    "        new_id.append(i)\n",
    "    new_employees_Id[name] =\"\".join(new_id)\n",
    "print(new_employees_Id)"
   ]
  },
  {
   "cell_type": "code",
   "execution_count": null,
   "metadata": {},
   "outputs": [],
   "source": []
  },
  {
   "cell_type": "code",
   "execution_count": null,
   "metadata": {},
   "outputs": [],
   "source": []
  }
 ],
 "metadata": {
  "kernelspec": {
   "display_name": "Python 3",
   "language": "python",
   "name": "python3"
  },
  "language_info": {
   "codemirror_mode": {
    "name": "ipython",
    "version": 3
   },
   "file_extension": ".py",
   "mimetype": "text/x-python",
   "name": "python",
   "nbconvert_exporter": "python",
   "pygments_lexer": "ipython3",
   "version": "3.9.1"
  }
 },
 "nbformat": 4,
 "nbformat_minor": 4
}
