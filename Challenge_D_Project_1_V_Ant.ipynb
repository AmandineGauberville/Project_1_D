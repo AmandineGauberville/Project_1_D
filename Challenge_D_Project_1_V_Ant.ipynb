{
 "cells": [
  {
   "cell_type": "code",
   "execution_count": null,
   "metadata": {},
   "outputs": [],
   "source": [
    "import random\n",
    "import string\n",
    "#creation liste des employee\n",
    "list_employee = [f'Person {i+1}' for i in range(100)]\n",
    "#fonction créant 1 ID\n",
    "def personalID():\n",
    "    return ''.join([random.choice(list_letters) for i in range(2)]+[random.choice(string.digits) for i in range(5)])\n",
    "#creation dictionnaire avec ID pour chaque employee\n",
    "people_ID = {list_employee[i]:personalID() for i in range(100)}\n",
    "#sorting the list by ID\n",
    "list_sorted = {k: v for k, v in sorted(people_ID.items(), key=lambda item: item[1])}"
   ]
  },
  {
   "cell_type": "code",
   "execution_count": null,
   "metadata": {},
   "outputs": [],
   "source": [
    "#Extraction of all the Id sorted\n",
    "ids = [i for i in list_sorted.values()]\n",
    "#Replace 0,1,2.... by A,B,C...\n",
    "indice_ids = 0\n",
    "for Id_person in ids:\n",
    "    Id_person = Id_person.replace('0','A')\n",
    "    Id_person = Id_person.replace('1','B')\n",
    "    Id_person = Id_person.replace('2','C')\n",
    "    Id_person = Id_person.replace('3','D')\n",
    "    Id_person = Id_person.replace('4','E')\n",
    "    Id_person = Id_person.replace('5','F')\n",
    "    Id_person = Id_person.replace('6','G')\n",
    "    Id_person = Id_person.replace('7','H')\n",
    "    Id_person = Id_person.replace('8','I')\n",
    "    Id_person = Id_person.replace('9','J')\n",
    "    ids[indice_ids] = Id_person\n",
    "    indice_ids += 1\n",
    "#creation of the new list using the keys order in list_sorted and the values defined in ids\n",
    "new_list = {list(list_sorted.keys())[i]:ids[i] for i in range(100)}\n",
    "print(new_list)"
   ]
  }
 ],
 "metadata": {
  "kernelspec": {
   "display_name": "Python 3",
   "language": "python",
   "name": "python3"
  },
  "language_info": {
   "codemirror_mode": {
    "name": "ipython",
    "version": 3
   },
   "file_extension": ".py",
   "mimetype": "text/x-python",
   "name": "python",
   "nbconvert_exporter": "python",
   "pygments_lexer": "ipython3",
   "version": "3.8.5"
  }
 },
 "nbformat": 4,
 "nbformat_minor": 4
}
